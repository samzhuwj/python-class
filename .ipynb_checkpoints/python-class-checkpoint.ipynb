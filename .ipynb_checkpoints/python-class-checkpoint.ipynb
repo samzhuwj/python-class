{
 "cells": [
  {
   "cell_type": "code",
   "execution_count": 10,
   "metadata": {},
   "outputs": [
    {
     "name": "stdout",
     "output_type": "stream",
     "text": [
      "<Toyota Corolla> car\n"
     ]
    }
   ],
   "source": [
    "class Vehicle:\n",
    "    kind = 'car'\n",
    "\n",
    "    def __init__(self, manufacturer, model):\n",
    "        self.manufacturer = manufacturer\n",
    "        self.model_name = model\n",
    "\n",
    "    @property\n",
    "    def name(self):\n",
    "        return \"%s %s\" % (self.manufacturer, self.model_name)\n",
    "\n",
    "    def __repr__(self):\n",
    "        return \"<%s>\" % self.name\n",
    "\n",
    "car = Vehicle('Toyota', 'Corolla')\n",
    "print(car, car.kind)"
   ]
  },
  {
   "cell_type": "code",
   "execution_count": 2,
   "metadata": {},
   "outputs": [
    {
     "data": {
      "text/plain": [
       "('car', 'car')"
      ]
     },
     "execution_count": 2,
     "metadata": {},
     "output_type": "execute_result"
    }
   ],
   "source": [
    "car = Vehicle('Toyota', 'Corolla')\n",
    "car2 = Vehicle('Honda', 'Civic')\n",
    "car.kind, car2.kind"
   ]
  },
  {
   "cell_type": "code",
   "execution_count": 3,
   "metadata": {},
   "outputs": [
    {
     "data": {
      "text/plain": [
       "('scrap', 'scrap')"
      ]
     },
     "execution_count": 3,
     "metadata": {},
     "output_type": "execute_result"
    }
   ],
   "source": [
    "Vehicle.kind = 'scrap'\n",
    "car.kind, car2.kind"
   ]
  },
  {
   "cell_type": "code",
   "execution_count": 11,
   "metadata": {},
   "outputs": [
    {
     "data": {
      "text/plain": [
       "('car', 'car')"
      ]
     },
     "execution_count": 11,
     "metadata": {},
     "output_type": "execute_result"
    }
   ],
   "source": [
    "car = Vehicle('Toyota', 'Corolla')\n",
    "car2 = Vehicle('Honda', 'Civic')\n",
    "car.kind, car2.kind"
   ]
  },
  {
   "cell_type": "code",
   "execution_count": 12,
   "metadata": {},
   "outputs": [
    {
     "data": {
      "text/plain": [
       "('scrap', 'car')"
      ]
     },
     "execution_count": 12,
     "metadata": {},
     "output_type": "execute_result"
    }
   ],
   "source": [
    "car.kind = 'scrap'\n",
    "car.kind, car2.kind"
   ]
  },
  {
   "cell_type": "code",
   "execution_count": 16,
   "metadata": {},
   "outputs": [
    {
     "data": {
      "text/plain": [
       "([1], [1])"
      ]
     },
     "execution_count": 16,
     "metadata": {},
     "output_type": "execute_result"
    }
   ],
   "source": [
    "class Test:\n",
    "    lst = [1,]\n",
    "    \n",
    "t1 = Test()\n",
    "t2 = Test()\n",
    "t1.lst, t2.lst"
   ]
  },
  {
   "cell_type": "code",
   "execution_count": 17,
   "metadata": {},
   "outputs": [
    {
     "data": {
      "text/plain": [
       "([1, 2], [1, 2])"
      ]
     },
     "execution_count": 17,
     "metadata": {},
     "output_type": "execute_result"
    }
   ],
   "source": [
    "t1.lst.append(2)\n",
    "t1.lst, t2.lst"
   ]
  },
  {
   "cell_type": "code",
   "execution_count": 18,
   "metadata": {},
   "outputs": [
    {
     "data": {
      "text/plain": [
       "<Toyota Corolla>"
      ]
     },
     "execution_count": 18,
     "metadata": {},
     "output_type": "execute_result"
    }
   ],
   "source": [
    "def from_dict(dict):\n",
    "    instance = Vehicle.__new__(Vehicle)\n",
    "    instance.__dict__.update(dict)\n",
    "    return instance\n",
    "\n",
    "car = Vehicle('Toyota', 'Corolla')\n",
    "car"
   ]
  },
  {
   "cell_type": "code",
   "execution_count": 21,
   "metadata": {},
   "outputs": [
    {
     "data": {
      "text/plain": [
       "<Toyota Corolla>"
      ]
     },
     "execution_count": 21,
     "metadata": {},
     "output_type": "execute_result"
    }
   ],
   "source": [
    "class_state = car.__dict__.copy()\n",
    "del car\n",
    "car = from_dict(class_state)\n",
    "car"
   ]
  },
  {
   "cell_type": "code",
   "execution_count": 22,
   "metadata": {},
   "outputs": [
    {
     "data": {
      "text/plain": [
       "mappingproxy({'__dict__': <attribute '__dict__' of 'Vehicle' objects>,\n",
       "              '__doc__': None,\n",
       "              '__init__': <function __main__.Vehicle.__init__>,\n",
       "              '__module__': '__main__',\n",
       "              '__repr__': <function __main__.Vehicle.__repr__>,\n",
       "              '__weakref__': <attribute '__weakref__' of 'Vehicle' objects>,\n",
       "              'kind': 'car',\n",
       "              'name': <property at 0x104eed548>})"
      ]
     },
     "execution_count": 22,
     "metadata": {},
     "output_type": "execute_result"
    }
   ],
   "source": [
    "Vehicle.__dict__"
   ]
  },
  {
   "cell_type": "code",
   "execution_count": 23,
   "metadata": {},
   "outputs": [
    {
     "data": {
      "text/plain": [
       "<bound method Test.double of <__main__.Test object at 0x104a21b00>>"
      ]
     },
     "execution_count": 23,
     "metadata": {},
     "output_type": "execute_result"
    }
   ],
   "source": [
    "class Test:\n",
    "    def double(self, x):\n",
    "        return x ** 2\n",
    "    \n",
    "t = Test()\n",
    "t.double"
   ]
  },
  {
   "cell_type": "code",
   "execution_count": 24,
   "metadata": {},
   "outputs": [
    {
     "data": {
      "text/plain": [
       "<function __main__.Test.double>"
      ]
     },
     "execution_count": 24,
     "metadata": {},
     "output_type": "execute_result"
    }
   ],
   "source": [
    "Test.double"
   ]
  },
  {
   "cell_type": "code",
   "execution_count": 25,
   "metadata": {},
   "outputs": [
    {
     "data": {
      "text/plain": [
       "<function __main__.Test.double>"
      ]
     },
     "execution_count": 25,
     "metadata": {},
     "output_type": "execute_result"
    }
   ],
   "source": [
    "Test.__dict__['double']"
   ]
  },
  {
   "cell_type": "code",
   "execution_count": 26,
   "metadata": {},
   "outputs": [
    {
     "data": {
      "text/plain": [
       "100"
      ]
     },
     "execution_count": 26,
     "metadata": {},
     "output_type": "execute_result"
    }
   ],
   "source": [
    "bound_double = t.double\n",
    "bound_double(10)"
   ]
  },
  {
   "cell_type": "code",
   "execution_count": 27,
   "metadata": {},
   "outputs": [
    {
     "data": {
      "text/plain": [
       "<__main__.Test at 0x104a21b00>"
      ]
     },
     "execution_count": 27,
     "metadata": {},
     "output_type": "execute_result"
    }
   ],
   "source": [
    "bound_double.__self__"
   ]
  },
  {
   "cell_type": "code",
   "execution_count": 28,
   "metadata": {},
   "outputs": [
    {
     "name": "stdout",
     "output_type": "stream",
     "text": [
      "<function double at 0x104ea5268>\n"
     ]
    }
   ],
   "source": [
    "t = Test()\n",
    "def double(self, x):\n",
    "    return x ** 2\n",
    "\n",
    "print(double)"
   ]
  },
  {
   "cell_type": "code",
   "execution_count": 29,
   "metadata": {},
   "outputs": [
    {
     "name": "stdout",
     "output_type": "stream",
     "text": [
      "<bound method double of <__main__.Test object at 0x104ec9358>>\n"
     ]
    }
   ],
   "source": [
    "bound_double = double.__get__(t,Test)\n",
    "print(bound_double)"
   ]
  },
  {
   "cell_type": "code",
   "execution_count": 30,
   "metadata": {},
   "outputs": [
    {
     "name": "stdout",
     "output_type": "stream",
     "text": [
      "100\n"
     ]
    }
   ],
   "source": [
    "print(bound_double(10))"
   ]
  },
  {
   "cell_type": "code",
   "execution_count": 31,
   "metadata": {},
   "outputs": [
    {
     "data": {
      "text/plain": [
       "<__main__.Test at 0x104ec9358>"
      ]
     },
     "execution_count": 31,
     "metadata": {},
     "output_type": "execute_result"
    }
   ],
   "source": [
    "bound_double.__self__"
   ]
  },
  {
   "cell_type": "code",
   "execution_count": 33,
   "metadata": {},
   "outputs": [
    {
     "data": {
      "text/plain": [
       "[__main__.C, __main__.A, __main__.B, object]"
      ]
     },
     "execution_count": 33,
     "metadata": {},
     "output_type": "execute_result"
    }
   ],
   "source": [
    "class A:\n",
    "    pass\n",
    "\n",
    "class B:\n",
    "    pass\n",
    "\n",
    "class C(A, B):\n",
    "    pass\n",
    "\n",
    "C.mro()"
   ]
  },
  {
   "cell_type": "code",
   "execution_count": 36,
   "metadata": {},
   "outputs": [
    {
     "data": {
      "text/plain": [
       "('car', 'non-data descriptor')"
      ]
     },
     "execution_count": 36,
     "metadata": {},
     "output_type": "execute_result"
    }
   ],
   "source": [
    "def get_attribute(obj, index):\n",
    "    class_definition = obj.__class__\n",
    "\n",
    "    descriptor = None\n",
    "    for cls in class_definition.mro():\n",
    "        if index in cls.__dict__:\n",
    "            descriptor = cls.__dict__[index]\n",
    "            break\n",
    "\n",
    "    if hasattr(descriptor, '__set__'):\n",
    "        # Data descriptor, return object\n",
    "        return descriptor, 'data descriptor'\n",
    "\n",
    "    # Check class instance\n",
    "    if index in obj.__dict__:\n",
    "        return obj.__dict__[index], 'instance attribute'\n",
    "\n",
    "    if descriptor is not None:\n",
    "        # Non-data descriptor\n",
    "        return descriptor, 'non-data descriptor'\n",
    "    else:\n",
    "        raise AttributeError\n",
    "        \n",
    "car = Vehicle('Toyota', 'Corolla')\n",
    "get_attribute(car, 'kind')"
   ]
  },
  {
   "cell_type": "code",
   "execution_count": 37,
   "metadata": {},
   "outputs": [
    {
     "data": {
      "text/plain": [
       "(<property at 0x104eed548>, 'data descriptor')"
      ]
     },
     "execution_count": 37,
     "metadata": {},
     "output_type": "execute_result"
    }
   ],
   "source": [
    "get_attribute(car, 'name')"
   ]
  },
  {
   "cell_type": "code",
   "execution_count": 38,
   "metadata": {},
   "outputs": [
    {
     "data": {
      "text/plain": [
       "('Corolla', 'instance attribute')"
      ]
     },
     "execution_count": 38,
     "metadata": {},
     "output_type": "execute_result"
    }
   ],
   "source": [
    "get_attribute(car, 'model_name')"
   ]
  },
  {
   "cell_type": "code",
   "execution_count": 39,
   "metadata": {},
   "outputs": [
    {
     "data": {
      "text/plain": [
       "(<function __main__.Vehicle.__repr__>, 'non-data descriptor')"
      ]
     },
     "execution_count": 39,
     "metadata": {},
     "output_type": "execute_result"
    }
   ],
   "source": [
    "get_attribute(car, '__repr__')"
   ]
  },
  {
   "cell_type": "code",
   "execution_count": 40,
   "metadata": {},
   "outputs": [
    {
     "name": "stdout",
     "output_type": "stream",
     "text": [
      "10\n",
      "2\n",
      "{'a': -8, 'foo': 'bar'}\n"
     ]
    }
   ],
   "source": [
    "def func():\n",
    "    print(func.a)\n",
    "    func.a -= 10\n",
    "\n",
    "\n",
    "func.a = 10\n",
    "func.foo = \"bar\"\n",
    "func()\n",
    "func.a += 2\n",
    "func()\n",
    "print(func.__dict__)"
   ]
  },
  {
   "cell_type": "code",
   "execution_count": null,
   "metadata": {},
   "outputs": [],
   "source": []
  }
 ],
 "metadata": {
  "kernelspec": {
   "display_name": "Python 3",
   "language": "python",
   "name": "python3"
  },
  "language_info": {
   "codemirror_mode": {
    "name": "ipython",
    "version": 3
   },
   "file_extension": ".py",
   "mimetype": "text/x-python",
   "name": "python",
   "nbconvert_exporter": "python",
   "pygments_lexer": "ipython3",
   "version": "3.6.4"
  }
 },
 "nbformat": 4,
 "nbformat_minor": 2
}
